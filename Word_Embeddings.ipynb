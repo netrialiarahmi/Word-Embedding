{
  "nbformat": 4,
  "nbformat_minor": 0,
  "metadata": {
    "colab": {
      "provenance": [],
      "authorship_tag": "ABX9TyMMcfLhruYomHlQTLlNk1Ll",
      "include_colab_link": true
    },
    "kernelspec": {
      "name": "python3",
      "display_name": "Python 3"
    },
    "language_info": {
      "name": "python"
    }
  },
  "cells": [
    {
      "cell_type": "markdown",
      "metadata": {
        "id": "view-in-github",
        "colab_type": "text"
      },
      "source": [
        "<a href=\"https://colab.research.google.com/github/netrialiarahmi/Word-Embedding/blob/main/Word_Embeddings.ipynb\" target=\"_parent\"><img src=\"https://colab.research.google.com/assets/colab-badge.svg\" alt=\"Open In Colab\"/></a>"
      ]
    },
    {
      "cell_type": "code",
      "source": [
        "import nltk\n",
        "nltk.download('punkt')\n"
      ],
      "metadata": {
        "colab": {
          "base_uri": "https://localhost:8080/"
        },
        "id": "eRISvOLU-r4p",
        "outputId": "2749abba-e2ba-4996-a132-3cfcc39e4e2d"
      },
      "execution_count": 3,
      "outputs": [
        {
          "output_type": "stream",
          "name": "stderr",
          "text": [
            "[nltk_data] Downloading package punkt to /root/nltk_data...\n",
            "[nltk_data]   Unzipping tokenizers/punkt.zip.\n"
          ]
        },
        {
          "output_type": "execute_result",
          "data": {
            "text/plain": [
              "True"
            ]
          },
          "metadata": {},
          "execution_count": 3
        }
      ]
    },
    {
      "cell_type": "code",
      "execution_count": 4,
      "metadata": {
        "colab": {
          "base_uri": "https://localhost:8080/"
        },
        "id": "Ec5F3f7s-J8C",
        "outputId": "06ee5ae4-804a-43d2-fc25-312504166ab0"
      },
      "outputs": [
        {
          "output_type": "stream",
          "name": "stdout",
          "text": [
            "[ 1.56351421e-02 -1.90203730e-02 -4.11062239e-04  6.93839323e-03\n",
            " -1.87794445e-03  1.67635437e-02  1.80215668e-02  1.30730132e-02\n",
            " -1.42324204e-03  1.54208085e-02 -1.70686692e-02  6.41421322e-03\n",
            " -9.27599426e-03 -1.01779103e-02  7.17923651e-03  1.07406788e-02\n",
            "  1.55390287e-02 -1.15330126e-02  1.48667218e-02  1.32509926e-02\n",
            " -7.41960062e-03 -1.74912829e-02  1.08749345e-02  1.30195115e-02\n",
            " -1.57510047e-03 -1.34197120e-02 -1.41718509e-02 -4.99412045e-03\n",
            "  1.02865072e-02 -7.33047491e-03 -1.87401194e-02  7.65347946e-03\n",
            "  9.76895820e-03 -1.28571270e-02  2.41711619e-03 -4.14975407e-03\n",
            "  4.88066689e-05 -1.97670180e-02  5.38400887e-03 -9.50021297e-03\n",
            "  2.17529293e-03 -3.15244915e-03  4.39334614e-03 -1.57631524e-02\n",
            " -5.43436781e-03  5.32639725e-03  1.06933638e-02 -4.78302967e-03\n",
            " -1.90201886e-02  9.01175756e-03]\n"
          ]
        }
      ],
      "source": [
        "import gensim\n",
        "import nltk\n",
        "\n",
        "# tokenize the data\n",
        "data = [\"Ung is great!\", \"Alia is great!\"]\n",
        "sentences = [nltk.word_tokenize(sentence.lower()) for sentence in data]\n",
        "\n",
        "# remove stopwords\n",
        "stop_words = set(nltk.corpus.stopwords.words('english'))\n",
        "sentences = [[word for word in sentence if word not in stop_words] for sentence in sentences]\n",
        "\n",
        "# training using CBOW\n",
        "model_cbow = gensim.models.Word2Vec(sentences, min_count=1, vector_size=50, workers=3, window=3, sg=0)\n",
        "\n",
        "# training using Skip-Gram\n",
        "model_skipgram = gensim.models.Word2Vec(sentences, min_count=1, vector_size=50, workers=3, window=3, sg=1)\n",
        "\n",
        "# get the word embeddings\n",
        "word_vectors_cbow = model_cbow.wv\n",
        "word_vectors_skipgram = model_skipgram.wv\n",
        "\n",
        "# get the word vector for a word\n",
        "print(word_vectors_cbow['ung'])\n"
      ]
    }
  ]
}